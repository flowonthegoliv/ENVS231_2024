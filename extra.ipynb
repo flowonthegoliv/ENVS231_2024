{
  "nbformat": 4,
  "nbformat_minor": 0,
  "metadata": {
    "colab": {
      "name": "Untitled11.ipynb",
      "provenance": [],
      "authorship_tag": "ABX9TyNTdx3ARZsx1SJZmUrW0bds",
      "include_colab_link": true
    },
    "kernelspec": {
      "name": "python3",
      "display_name": "Python 3"
    },
    "language_info": {
      "name": "python"
    }
  },
  "cells": [
    {
      "cell_type": "markdown",
      "metadata": {
        "id": "view-in-github",
        "colab_type": "text"
      },
      "source": [
        "<a href=\"https://colab.research.google.com/github/flowonthegoliv/ENVS231_2022/blob/main/extra.ipynb\" target=\"_parent\"><img src=\"https://colab.research.google.com/assets/colab-badge.svg\" alt=\"Open In Colab\"/></a>"
      ]
    },
    {
      "cell_type": "code",
      "execution_count": 1,
      "metadata": {
        "id": "ZvqXkYGJRoVi"
      },
      "outputs": [],
      "source": [
        "#Add this to the beginning of your script to create your dataset.  \n",
        "student_id = 2015546394 #here you need to change this number for your student ID \n",
        "import requests\n",
        "r = requests.get('https://raw.githubusercontent.com/flowonthegoliv/ENVS231_2022/main/make_data.py')\n",
        "with open('make_data.py', 'w') as f:\n",
        "    f.write(r.text)\n",
        "import make_data\n",
        "datetime, dat1, dat2, dat3 = make_data.make_data(student_id)\n"
      ]
    },
    {
      "cell_type": "code",
      "source": [
        "import matplotlib.pyplot as plt\n",
        "\n",
        "plt.plot(datetime,dat1)\n",
        "\n",
        "import numpy as np\n",
        "\n",
        "np.shape(dat1)\n",
        "\n",
        "mean1 = np.nanmean(dat1)\n",
        "\n",
        "print(np.round(mean1,3))"
      ],
      "metadata": {
        "colab": {
          "base_uri": "https://localhost:8080/",
          "height": 282
        },
        "id": "1TnvQXkjRqO5",
        "outputId": "a52a2a06-d1fb-4def-dc04-6ba833fb1342"
      },
      "execution_count": 6,
      "outputs": [
        {
          "output_type": "stream",
          "name": "stdout",
          "text": [
            "11.147\n"
          ]
        },
        {
          "output_type": "display_data",
          "data": {
            "text/plain": [
              "<Figure size 432x288 with 1 Axes>"
            ],
            "image/png": "[encoded data removed]"
          },
          "metadata": {
            "needs_background": "light"
          }
        }
      ]
    },
    {
      "cell_type": "code",
      "source": [
        ""
      ],
      "metadata": {
        "id": "LqY6ag5dS8kY"
      },
      "execution_count": null,
      "outputs": []
    },
    {
      "cell_type": "code",
      "source": [
        "\n",
        "span = np.linspace(min1,max1,10)\n",
        "bins = np.zeros([9,])\n",
        "count = np.zeros([9,])\n",
        "for i in range(0,9):\n",
        "  count[i]=sum(np.logical_and(dat1>=span[i],dat1<span[i+1]))\n",
        "count\n",
        "\n"
      ],
      "metadata": {
        "id": "PYcgDz18S3ao"
      },
      "execution_count": null,
      "outputs": []
    },
    {
      "cell_type": "code",
      "source": [
        "p5 = np.nanpercentile(dat1,5)\n",
        "p95 = np.nanpercentile(dat1,95)"
      ],
      "metadata": {
        "id": "Jzne2MlxTHoQ"
      },
      "execution_count": null,
      "outputs": []
    },
    {
      "cell_type": "code",
      "source": [
        "import matplotlib.pyplot as plt\n",
        "plt.plot(datetime,dat1)\n"
      ],
      "metadata": {
        "colab": {
          "base_uri": "https://localhost:8080/",
          "height": 282
        },
        "id": "1LMnL0n1TiU3",
        "outputId": "7048c865-ba16-4f23-f62e-60abe187a3d1"
      },
      "execution_count": 7,
      "outputs": [
        {
          "output_type": "execute_result",
          "data": {
            "text/plain": [
              "[<matplotlib.lines.Line2D at 0x7f758fad7250>]"
            ]
          },
          "metadata": {},
          "execution_count": 7
        },
        {
          "output_type": "display_data",
          "data": {
            "text/plain": [
              "<Figure size 432x288 with 1 Axes>"
            ],
            "image/png": "[encoded data removed]"
          },
          "metadata": {
            "needs_background": "light"
          }
        }
      ]
    }
  ]
}