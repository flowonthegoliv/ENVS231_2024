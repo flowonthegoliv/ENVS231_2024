{
  "nbformat": 4,
  "nbformat_minor": 0,
  "metadata": {
    "colab": {
      "name": "python_walk_through",
      "provenance": [],
      "collapsed_sections": [
        "iHSB5jRF3Jt0",
        "O7VKMmx95gM1",
        "MXqcRAkSBMyL"
      ],
      "authorship_tag": "ABX9TyP6eg+eFr4YMXD+lE8G+MwU",
      "include_colab_link": true
    },
    "kernelspec": {
      "name": "python3",
      "display_name": "Python 3"
    }
  },
  "cells": [
    {
      "cell_type": "markdown",
      "metadata": {
        "id": "view-in-github",
        "colab_type": "text"
      },
      "source": [
        "<a href=\"https://colab.research.google.com/github/flowonthegoliv/ENVS231_2022/blob/main/python_walk_through.ipynb\" target=\"_parent\"><img src=\"https://colab.research.google.com/assets/colab-badge.svg\" alt=\"Open In Colab\"/></a>"
      ]
    },
    {
      "cell_type": "markdown",
      "metadata": {
        "id": "3w1AfafW4Tx_"
      },
      "source": [
        "# Computer Practical - Jonny\n",
        "\n",
        "Aim of the practical session:\n",
        "\n",
        "1. To learn the basics of Python\n",
        "2. To understand logic operations \n",
        "3. To create some simple plots\n",
        "4. To be able to read data in from *.csv files\n",
        "5. To create some simple statistics \n",
        "\n",
        "Welcome to your *first* course in Python! In this course, we will cover the basics of Python programming and apply these techniques to analyze data related to air pollution in the city.\n",
        "\n",
        "Python is a high-level programming language that is versatile and does not require compilation. Unlike other programming languages, Python code can be run on different platforms without modification, making it a popular choice for various applications.\n",
        "\n",
        "Throughout this module, we will be using Google Colaboratory (Colab), a cloud-based environment that allows you to run Python code in a web browser. This means that all computations are done online on Google's servers, which can be a great advantage for those who don't have powerful computers or don't want to install Python locally.\n",
        "\n",
        "However, if you do want to install Python on your local computer, it is possible, and in most cases, it's already installed. Many background programs use Python in their day-to-day operations, so it's likely that your computer has it. If you have any questions about installing Python, please feel free to ask, and I can guide you through the process.\n",
        "\n",
        "Now, let's talk about the notebook. In Colab, we program in a notebook, which is an interactive document that combines code, text, and visualizations. When you run a code cell in the notebook, the code is executed, and any output or error messages are displayed below the cell.\n",
        "\n",
        "In the example below, we assign variables to values, which means we can perform simple operations based on numbers. This is similar to what you might see in Microsoft Excel, but instead of using cell numbers, we are now assigning letters to each number. You will also notice that some lines of text have a pound sign or hashtag sign (#) before them. This is a comment in the program, and the computer ignores these lines when executing the code.\n",
        "\n",
        "In this tutorial, I will be writing over the values assigned to variables a, b, and c in different cells. If you do not overwrite these values, the computer will remember them, so make sure to follow along and experiment with the code.\n",
        "\n",
        "# Basic Operations"
      ]
    },
    {
      "cell_type": "code",
      "metadata": {
        "colab": {
          "base_uri": "https://localhost:8080/"
        },
        "id": "YyQVXe0WUOEU",
        "outputId": "e91849ff-51af-45af-dd7a-53bd35fddc14"
      },
      "source": [
        "#first example (addition & subtraction):\n",
        "a = 3\n",
        "b = 2\n",
        "c = a + b - a\n",
        "#to see the answer we need to tell the computer to print it on screen:\n",
        "print(c)"
      ],
      "execution_count": null,
      "outputs": [
        {
          "output_type": "stream",
          "text": [
            "2\n"
          ],
          "name": "stdout"
        }
      ]
    },
    {
      "cell_type": "code",
      "metadata": {
        "colab": {
          "base_uri": "https://localhost:8080/"
        },
        "id": "OYCN7UXWjit2",
        "outputId": "10ff02dd-b5c1-4712-bf6c-a68d173ffd50"
      },
      "source": [
        "#second example (multiplication and division):\n",
        "a = 2\n",
        "b = 3\n",
        "c = (b*a)/a \n",
        "c = a**2 #power of \n",
        "print(c)"
      ],
      "execution_count": null,
      "outputs": [
        {
          "output_type": "stream",
          "text": [
            "4\n"
          ],
          "name": "stdout"
        }
      ]
    },
    {
      "cell_type": "markdown",
      "metadata": {
        "id": "u-qEpQPgUPXi"
      },
      "source": [
        "# Libraries \n",
        "\n",
        "So actually, the language Python alone is rather stupid, alone it only has very simple operations such as adding, dividing and multiplying. To increase the flexibility of the language we need to introduce libraries. So, what do I mean by a library? A library is a set of pre-programmed routines which have been programmed already for you for example if we were to calculate the mean of a number we could do this quite easily by using some of Python is built in routines of addition and division. However, this only works if we have a small set of numbers:"
      ]
    },
    {
      "cell_type": "code",
      "metadata": {
        "colab": {
          "base_uri": "https://localhost:8080/"
        },
        "id": "26oO9BdYUL2u",
        "outputId": "e65ad4c8-22d9-4ac4-b23f-b73504ada301"
      },
      "source": [
        "#calculating the mean\n",
        "a = (1 + 2 + 3 + 4 + 9)/5\n",
        "print(a)"
      ],
      "execution_count": null,
      "outputs": [
        {
          "output_type": "stream",
          "text": [
            "3.8\n"
          ],
          "name": "stdout"
        }
      ]
    },
    {
      "cell_type": "markdown",
      "metadata": {
        "id": "ZdAO7q8Tl-YC"
      },
      "source": [
        "Instead, now if we used one of the most commonly used libraries (numpy) we can perform all sorts of mathematical operations. These range from simple tasks from means an average is all the way open to extremely complex linear algebra functions. We can import the library as shown below. Here we import the library with the name (np) and we can call that function whenever we like. \n",
        "\n"
      ]
    },
    {
      "cell_type": "code",
      "metadata": {
        "colab": {
          "base_uri": "https://localhost:8080/"
        },
        "id": "j1r8B5ZtmYhL",
        "outputId": "c747f4ad-306c-4d24-b773-ff38dcea38ec"
      },
      "source": [
        "import numpy as np\n",
        "#calculating the mean\n",
        "a = np.mean([1,2,3,4,9])\n",
        "print(a)\n",
        "#calculating the median \n",
        "a = np.median([1,2,3,4,9])\n",
        "print(a)\n",
        "#calculating the standard deviation \n",
        "a = np.std([1,2,3,4,9])\n",
        "print(a)\n",
        "# calculating max\n",
        "a = np.max([1,2,3,4,9])\n",
        "print(a)"
      ],
      "execution_count": null,
      "outputs": [
        {
          "output_type": "stream",
          "text": [
            "3.8\n",
            "3.0\n",
            "2.785677655436824\n",
            "9\n"
          ],
          "name": "stdout"
        }
      ]
    },
    {
      "cell_type": "markdown",
      "metadata": {
        "id": "k0bW-4-jnDYY"
      },
      "source": [
        "These are just a select few of some of the functions which can be called. There are millions of different functions inside of numpy the best way to find these is by looking into the documentation which can be found at this link: \n",
        "\n",
        "https://numpy.org/doc/stable/user/absolute_beginners.html\n",
        "\n",
        "There are many different libraries which have very similar or the same tools and the best way to find a tool for which you want to apply to your data is simply by using Google. Of course you can always ask myself or one of the facilitators however we might give different answers based on our background of use of different libraries (Quite likely we will probably Google the library first too!).\n",
        "\n"
      ]
    },
    {
      "cell_type": "markdown",
      "metadata": {
        "id": "eKSifAw04QHT"
      },
      "source": [
        "# Arrays\n",
        "The next thing we're going to work on is how we can store multiple numbers in a single array. An array mathematically represents something called a vector, in Python we do this using the square brackets.  \n",
        "\n"
      ]
    },
    {
      "cell_type": "code",
      "metadata": {
        "colab": {
          "base_uri": "https://localhost:8080/"
        },
        "id": "i9iM0RI7uc8i",
        "outputId": "5e215615-151d-409d-9a6f-14a3ac354c3a"
      },
      "source": [
        "# creating an array \n",
        "a = [1,2,5,3,8]\n",
        "print(a)\n",
        "# print(a[2])"
      ],
      "execution_count": null,
      "outputs": [
        {
          "output_type": "stream",
          "text": [
            "[1, 2, 5, 3, 8]\n"
          ],
          "name": "stdout"
        }
      ]
    },
    {
      "cell_type": "code",
      "metadata": {
        "colab": {
          "base_uri": "https://localhost:8080/"
        },
        "id": "Kn7A2L5Mut4M",
        "outputId": "e8b531ac-0324-4056-9b1a-9bced2bbbab0"
      },
      "source": [
        "import numpy as np\n",
        "#using the array\n",
        "b = np.mean(a);\n",
        "print(b)"
      ],
      "execution_count": null,
      "outputs": [
        {
          "output_type": "stream",
          "text": [
            "3.8\n"
          ],
          "name": "stdout"
        }
      ]
    },
    {
      "cell_type": "markdown",
      "metadata": {
        "id": "q9gSZO1dxh9g"
      },
      "source": [
        "If we want to access any of the numbers in the array, we can do this by using their index...annoyingly computers start couting from 0 so to retreive the first value in the array we would say:"
      ]
    },
    {
      "cell_type": "code",
      "metadata": {
        "colab": {
          "base_uri": "https://localhost:8080/"
        },
        "id": "K0MRPOAbxuSP",
        "outputId": "d582a3e6-6547-40f7-dd18-10ce8a86903d"
      },
      "source": [
        "a = [1,2,5,3,8]\n",
        "#this will retrieve the first value in the array\n",
        "print(a[4])\n",
        "#you can change this number to retrieve any number. "
      ],
      "execution_count": null,
      "outputs": [
        {
          "output_type": "stream",
          "text": [
            "8\n"
          ],
          "name": "stdout"
        }
      ]
    },
    {
      "cell_type": "markdown",
      "metadata": {
        "id": "Iq-CkWYFvaEp"
      },
      "source": [
        "As of present this array just has one dimension. However, sometimes we might want the array to a second dimension. This is what we could call a matrix:"
      ]
    },
    {
      "cell_type": "code",
      "metadata": {
        "colab": {
          "base_uri": "https://localhost:8080/"
        },
        "id": "O2muWJ5gvknj",
        "outputId": "186efd01-6f1a-491f-bb17-0978f5347dd4"
      },
      "source": [
        "#here we now have a two dimensional array of size 3 x 4\n",
        "a = [[1,2,3,4], [2,3,4,5], [3,2,3,4]]\n",
        "print(a)"
      ],
      "execution_count": null,
      "outputs": [
        {
          "output_type": "stream",
          "text": [
            "[[1, 2, 3, 4], [2, 3, 4, 5], [3, 2, 3, 4]]\n"
          ],
          "name": "stdout"
        }
      ]
    },
    {
      "cell_type": "code",
      "metadata": {
        "colab": {
          "base_uri": "https://localhost:8080/"
        },
        "id": "UbwKv77dyFd7",
        "outputId": "d3ebcf2b-3963-4b82-d665-3cf2153b260b"
      },
      "source": [
        "import numpy as np\n",
        "#you can check the size of the matrix by using:\n",
        "c = np.shape(a)\n",
        "print(c)"
      ],
      "execution_count": null,
      "outputs": [
        {
          "output_type": "stream",
          "text": [
            "(3, 4)\n"
          ],
          "name": "stdout"
        }
      ]
    },
    {
      "cell_type": "markdown",
      "metadata": {
        "id": "dP8qW_b6xKPU"
      },
      "source": [
        "We can think of this perhaps as a table; here the table has three rows and four columns. Annoyingly in computing we always define the size of matrix the opposite way that you are used to. Remember reinforced concrete (RC)...if you forget! Now we have a table it means we can take the mean in two directions:"
      ]
    },
    {
      "cell_type": "code",
      "metadata": {
        "colab": {
          "base_uri": "https://localhost:8080/"
        },
        "id": "-ZwzLuNPyMsd",
        "outputId": "6cc554a8-489b-4c4e-eebd-2bc6f77b01ca"
      },
      "source": [
        "import numpy as np\n",
        "#this takes the mean across the rows (note we use 0 to denote the first dimension)\n",
        "a = [[1,2,3,4], [2,3,4,5], [3,2,3,4]]\n",
        "c_1 = np.mean(a,0)\n",
        "print(c_1)"
      ],
      "execution_count": null,
      "outputs": [
        {
          "output_type": "stream",
          "text": [
            "[2.         2.33333333 3.33333333 4.33333333]\n"
          ],
          "name": "stdout"
        }
      ]
    },
    {
      "cell_type": "code",
      "metadata": {
        "colab": {
          "base_uri": "https://localhost:8080/"
        },
        "id": "aeog6TpryY7P",
        "outputId": "340988c1-8960-475a-a15d-b6ad22f3955f"
      },
      "source": [
        "import numpy as np\n",
        "a = [[1,2,3,4], [2,3,4,5], [3,2,3,4]]\n",
        "c_2 = np.mean(a,1)\n",
        "print(c_2)"
      ],
      "execution_count": null,
      "outputs": [
        {
          "output_type": "stream",
          "text": [
            "[2.5 3.5 3. ]\n"
          ],
          "name": "stdout"
        }
      ]
    },
    {
      "cell_type": "markdown",
      "metadata": {
        "id": "lG_GcFl0yhkZ"
      },
      "source": [
        "These are both really handy operations for quickly looking at statistics of the the data we have, for example in the pollution data we might have time store in the rows data and days stored in the rows. This would quickly allow us to access these statistics. If we wanted to find the mean of the whole matrix, we could do this in one of two ways nesting the functions inside one another:"
      ]
    },
    {
      "cell_type": "code",
      "metadata": {
        "colab": {
          "base_uri": "https://localhost:8080/"
        },
        "id": "BgXDw3JL1Wz2",
        "outputId": "b7072565-6614-4822-f2d9-1f2e53f427b9"
      },
      "source": [
        "import numpy as np\n",
        "#we could do this by taking the mean in both direction\n",
        "a = [[1,2,3,4], [2,3,4,5], [3,2,3,4]]\n",
        "c = np.mean(np.mean(a,1),0)\n",
        "print(c)"
      ],
      "execution_count": null,
      "outputs": [
        {
          "output_type": "stream",
          "text": [
            "3.0\n"
          ],
          "name": "stdout"
        }
      ]
    },
    {
      "cell_type": "code",
      "metadata": {
        "colab": {
          "base_uri": "https://localhost:8080/"
        },
        "id": "_BhPjxTN25Rb",
        "outputId": "ed91f7ee-76c2-4694-8101-1daf83e233f5"
      },
      "source": [
        "import numpy as np\n",
        "#or we can do it by converting (unravelling) the matrix:\n",
        "a = [[1,2,3,4], [2,3,4,5], [3,2,3,4]]\n",
        "c = np.mean(np.ravel(a),0)\n",
        "print(c)"
      ],
      "execution_count": null,
      "outputs": [
        {
          "output_type": "stream",
          "text": [
            "3.0\n"
          ],
          "name": "stdout"
        }
      ]
    },
    {
      "cell_type": "markdown",
      "metadata": {
        "id": "iHSB5jRF3Jt0"
      },
      "source": [
        "# Loops\n",
        "\n",
        "One of the quirks of Python means that we have to be very careful with indentations. When creating a loop everything inside of the loop must be indented. Once we have finished the loop we stop this indentation. This must be done with the tab key and not with the space bar. Python will not run a programme inside of a loop if the indentation is not correct. This is implemented in Python to ensure that when people code they code in a neat fashion. In languages such as C and matlab there is no requirement for indentations, this often means open brackets especially in my case closed brackets the codes which can be used are often very messy\n",
        "\n",
        "One of the next things we will introduce is the use of loops. A loop is really useful and is common in every computing language. What a loop allows us to do is to repeat the same operation a number of times. This is done either with a for loop where we set the maximum number of iterations or it is done using a while loop...\n",
        "\n"
      ]
    },
    {
      "cell_type": "code",
      "metadata": {
        "colab": {
          "base_uri": "https://localhost:8080/"
        },
        "id": "qo0eJkfR3clf",
        "outputId": "c62f13af-f52a-411c-f5c6-6175a66e8595"
      },
      "source": [
        "# note we use in range here to denote the start and end number\n",
        "a = np.zeros([10,1]) #if here we create an empty array we can also allocate values\n",
        "for i in range(0,10):\n",
        "  a[i] = np.random.rand(1)\n",
        "  # print(i)\n",
        "print(a)"
      ],
      "execution_count": null,
      "outputs": [
        {
          "output_type": "stream",
          "text": [
            "[[0.34408979]\n",
            " [0.90377186]\n",
            " [0.7569957 ]\n",
            " [0.42934829]\n",
            " [0.19948678]\n",
            " [0.61291607]\n",
            " [0.97871099]\n",
            " [0.48276255]\n",
            " [0.7967329 ]\n",
            " [0.87461403]]\n"
          ],
          "name": "stdout"
        }
      ]
    },
    {
      "cell_type": "markdown",
      "metadata": {
        "id": "U7aXM9Jv4hwH"
      },
      "source": [
        "As we can see what the loop has allowed us to do here is to repeat the same operation whilst increasing 'i' which is our number from which we are iterating. This means we would be able to perform the operation 10 times perhaps even changing an input parameter. This letter can be any letter, again i is just commonly used in computing. "
      ]
    },
    {
      "cell_type": "code",
      "metadata": {
        "colab": {
          "base_uri": "https://localhost:8080/"
        },
        "id": "zFjmMPkF4Ldq",
        "outputId": "799bffc7-5be1-43f0-9723-8d7732c4e9b8"
      },
      "source": [
        "#here we can change the start and end number of i and even change the size of the steps it uses. \n",
        "for i in range(2,10,2):\n",
        "  print(i)"
      ],
      "execution_count": null,
      "outputs": [
        {
          "output_type": "stream",
          "text": [
            "2\n",
            "4\n",
            "6\n",
            "8\n"
          ],
          "name": "stdout"
        }
      ]
    },
    {
      "cell_type": "code",
      "metadata": {
        "colab": {
          "base_uri": "https://localhost:8080/"
        },
        "id": "AR_1kCxHcTkr",
        "outputId": "60c121c6-debd-4eeb-d7fc-9a2ec0572953"
      },
      "source": [
        "for j in range(0,5):\n",
        "  print(j)\n",
        "print('finished')"
      ],
      "execution_count": null,
      "outputs": [
        {
          "output_type": "stream",
          "text": [
            "0\n",
            "1\n",
            "2\n",
            "3\n",
            "4\n",
            "finushed\n"
          ],
          "name": "stdout"
        }
      ]
    },
    {
      "cell_type": "code",
      "metadata": {
        "colab": {
          "base_uri": "https://localhost:8080/"
        },
        "id": "FsDLFiZ3co6c",
        "outputId": "8cbd8c5a-65d7-4137-899b-6159bf9935dc"
      },
      "source": [
        "#added second practical \n",
        "import numpy as np\n",
        "tmp = np.zeros(5,)\n",
        "count = 0;\n",
        "for loop in range(0,10,2):\n",
        "  # print(loop)\n",
        "  tmp[count]=loop\n",
        "  count = count + 1 \n",
        "print(tmp)"
      ],
      "execution_count": null,
      "outputs": [
        {
          "output_type": "stream",
          "text": [
            "[0. 2. 4. 6. 8.]\n"
          ],
          "name": "stdout"
        }
      ]
    },
    {
      "cell_type": "markdown",
      "metadata": {
        "id": "O7VKMmx95gM1"
      },
      "source": [
        "# Logic\n",
        "\n",
        "The next very common thing used in computing is logic. Logic can be thought of as questions one might ask themselves when playing a computer game. These can be questions such as if one was to do this to a certain operation however if one was to do something else then do a second operation. Being logical in the computer code allows us to make decisions based on parameters for example if we were to find our average value was greater than a certain value we could have an operation to one function, however if we were to find that the value was less than a certain prescribed value then we could have it do alternative operation.  For example:"
      ]
    },
    {
      "cell_type": "code",
      "metadata": {
        "colab": {
          "base_uri": "https://localhost:8080/"
        },
        "id": "vayZNX665iXU",
        "outputId": "c068be72-5a76-4fe6-a468-eea6c465ad9f"
      },
      "source": [
        "a = 3 #change the input value\n",
        "if a > 5: # here we are asking if a is greater than 5\n",
        "  print('Hello') # here note for printing words I use '', this tells the computer these are words not numbers!\n",
        "if a < 5: # here we are asdking if a is less than 5\n",
        "  print('Goodbye')"
      ],
      "execution_count": null,
      "outputs": [
        {
          "output_type": "stream",
          "text": [
            "Goodbye\n"
          ],
          "name": "stdout"
        }
      ]
    },
    {
      "cell_type": "markdown",
      "metadata": {
        "id": "y6YDJFEP6A-u"
      },
      "source": [
        "We can further extend this functionality by introducing else statements. This means if we ask the computer a question and if does not meet the if criteria we can get the computer to do another operation, for example:"
      ]
    },
    {
      "cell_type": "code",
      "metadata": {
        "colab": {
          "base_uri": "https://localhost:8080/"
        },
        "id": "S3L9vMdx6TwI",
        "outputId": "1f5ad881-0ccc-40e8-e64e-ef813474b392"
      },
      "source": [
        "a = 5 #change the input value\n",
        "if a >= 6: #if a is greater than or equal 5\n",
        "  print('Hello')\n",
        "else:\n",
        "  print('Goodbye')"
      ],
      "execution_count": null,
      "outputs": [
        {
          "output_type": "stream",
          "text": [
            "Goodbye\n"
          ],
          "name": "stdout"
        }
      ]
    },
    {
      "cell_type": "markdown",
      "metadata": {
        "id": "PA_0zoSd6u5g"
      },
      "source": [
        "We can even further extend this by asking an additional questions by nesting if statements:"
      ]
    },
    {
      "cell_type": "code",
      "metadata": {
        "colab": {
          "base_uri": "https://localhost:8080/"
        },
        "id": "_7Y2IobJ62Bd",
        "outputId": "9a8d2c0c-738e-4d2c-f0c4-1fc9c213bb4d"
      },
      "source": [
        "a = 3 #change the input value\n",
        "if a == 1: #if a is equal to 1 \n",
        "  print('Hola')\n",
        "if a == 2: #if a is equal to 1 \n",
        "  print('Adiós')\n",
        "if a > 2: #if a is greater than 2 \n",
        "  print('Jorge')"
      ],
      "execution_count": null,
      "outputs": [
        {
          "output_type": "stream",
          "text": [
            "Jorge\n"
          ],
          "name": "stdout"
        }
      ]
    },
    {
      "cell_type": "markdown",
      "metadata": {
        "id": "VIzoSTHE8Vo2"
      },
      "source": [
        "There are a range of different operators we can use in this logics:\n",
        "* '==' equal to\n",
        "* '>' greater than\n",
        "* '<' less than\n",
        "* '>=' greater or equal to \n",
        "* '<=' less than or equal to\n",
        "* '!=' not equal too\n",
        "\n",
        "We can even combine these operators to ask multiple questions using and or or, for example:\n"
      ]
    },
    {
      "cell_type": "code",
      "metadata": {
        "colab": {
          "base_uri": "https://localhost:8080/"
        },
        "id": "qFTvo5MP84nZ",
        "outputId": "f3222833-333e-41e3-f0e4-e3e2de643442"
      },
      "source": [
        "a = 2 #change the input value\n",
        "b = 3 #change the input value\n",
        "#using an & operator \n",
        "if a == 2 and b > 2: # here we are asking, if a is equal to 2 and b is greater than 2\n",
        "  print('Hello')\n",
        "else: \n",
        "  print('Goodbye')"
      ],
      "execution_count": null,
      "outputs": [
        {
          "output_type": "stream",
          "text": [
            "Hello\n"
          ],
          "name": "stdout"
        }
      ]
    },
    {
      "cell_type": "code",
      "metadata": {
        "colab": {
          "base_uri": "https://localhost:8080/"
        },
        "id": "UmnXX8by-SW9",
        "outputId": "de26fe4d-7a6b-4601-94a7-010b9aa794cf"
      },
      "source": [
        "a = 3 #change the input value\n",
        "b = 3 #change the input value\n",
        "#using an or operator \n",
        "if a == 2 or b > 2: # here we are asking, if a is equal to 2 and b is greater than 2\n",
        "  print('Hello')\n",
        "else: \n",
        "  print('Goodbye')"
      ],
      "execution_count": null,
      "outputs": [
        {
          "output_type": "stream",
          "text": [
            "Hello\n"
          ],
          "name": "stdout"
        }
      ]
    },
    {
      "cell_type": "markdown",
      "metadata": {
        "id": "zTBqlfKI-hiz"
      },
      "source": [
        "We can now combine the logic statements and the for loops into something called a while loop. As suggested by the name, the loop will continue running until a condition is met, this condition can be provided before the loop or it could be created within the loop:"
      ]
    },
    {
      "cell_type": "code",
      "metadata": {
        "colab": {
          "base_uri": "https://localhost:8080/"
        },
        "id": "EPgk3b3K_nTP",
        "outputId": "9b726d99-9090-4b9c-f2cf-6ba7592e30ec"
      },
      "source": [
        "a = 0 #setting an initial condition\n",
        "while a < 10:\n",
        "  a = a+1\n",
        "  print(a)\n",
        "  # print('Hello')"
      ],
      "execution_count": null,
      "outputs": [
        {
          "output_type": "stream",
          "text": [
            "1\n",
            "2\n",
            "3\n",
            "4\n",
            "5\n",
            "6\n",
            "7\n",
            "8\n",
            "9\n",
            "10\n"
          ],
          "name": "stdout"
        }
      ]
    },
    {
      "cell_type": "code",
      "metadata": {
        "colab": {
          "base_uri": "https://localhost:8080/"
        },
        "id": "n0qMqhIl_07r",
        "outputId": "498d00d1-a155-4fde-f052-c3b3bea9dfd6"
      },
      "source": [
        "c = 0; #sometimes we might even want the loop to count. We can do this by adding a number to c at each itteration. \n",
        "while c < 5:\n",
        "  c = c + 2\n",
        "  print(c)"
      ],
      "execution_count": null,
      "outputs": [
        {
          "output_type": "stream",
          "text": [
            "2\n",
            "4\n",
            "6\n"
          ],
          "name": "stdout"
        }
      ]
    },
    {
      "cell_type": "markdown",
      "metadata": {
        "id": "vXcW5kmHAIzQ"
      },
      "source": [
        "You do need to be very carefull when using while loops that there is a criteria for the loop to end; if not the loop could keep running to infinity! 🙈"
      ]
    },
    {
      "cell_type": "markdown",
      "metadata": {
        "id": "MXqcRAkSBMyL"
      },
      "source": [
        "# Plotting \n",
        "\n",
        "So to be able to plot, we need to use an additional library. The one I prefer to use is called matplotlib (this is how you create all of the fancy plots you see in theh journal papers). "
      ]
    },
    {
      "cell_type": "code",
      "metadata": {
        "colab": {
          "base_uri": "https://localhost:8080/",
          "height": 312
        },
        "id": "UjWYP2_3B14H",
        "outputId": "ec615e64-4fa6-4d0d-8ca4-bafee785d4fb"
      },
      "source": [
        "import matplotlib.pyplot as plt #again we simplify the name to plt, but realistically this could be what you want! \n",
        "a = [1,2,3,4,5,6] # again we define some values \n",
        "b = [6,5,4,3,2,1] # again we define some values \n",
        "c = [10,15,41,3,12,1] # again we define some values \n",
        "plt.plot(a,c) #and it really is as simple as this to crearte a plot! \n",
        "plt.ylabel('Hola') # add some lables\n",
        "plt.xlabel('Hello') # add some lables\n",
        "plt.title('Hola vs Hello') # add a title"
      ],
      "execution_count": null,
      "outputs": [
        {
          "output_type": "execute_result",
          "data": {
            "text/plain": [
              "Text(0.5, 1.0, 'Hola vs Hello')"
            ]
          },
          "metadata": {
            "tags": []
          },
          "execution_count": 8
        },
        {
          "output_type": "display_data",
          "data": {
            "image/png": "[encoded data removed]",
            "text/plain": [
              "<Figure size 432x288 with 1 Axes>"
            ]
          },
          "metadata": {
            "tags": [],
            "needs_background": "light"
          }
        }
      ]
    },
    {
      "cell_type": "markdown",
      "metadata": {
        "id": "gmpfR1kGDAQD"
      },
      "source": [
        "We can tweak any paramter of the plots in the following way, these possibilities are endless; check out the documentation for different ideas:\n",
        "\n",
        "https://matplotlib.org/stable/gallery/index.html\n"
      ]
    },
    {
      "cell_type": "code",
      "metadata": {
        "colab": {
          "base_uri": "https://localhost:8080/",
          "height": 367
        },
        "id": "zIJUEmpeDF_R",
        "outputId": "3c54b495-8d39-4618-8a41-73e3965bd47f"
      },
      "source": [
        "import matplotlib.pyplot as plt #again we simplify the name to plt, but realistically this could be what you want! \n",
        "\n",
        "plt.figure(figsize=(10,5)) # here we can change the size of the figure \n",
        "\n",
        "a1 = [1,2,3,4,5,6] # again we define some values \n",
        "b1 = [6,5,4,3,2,1] # again we define some values \n",
        "a2 = [2,3,4,5,6,7] # again we define some values \n",
        "b2 = [12,11,10,9,8,7] # again we define some values \n",
        "\n",
        "plt.plot(a1,b1,'r--',label='sample1') # this changes the lines to being red and dashed. \n",
        "plt.plot(a2,b2,'b-*',label='bob') # this changes the lines to being blue and with stars. \n",
        "\n",
        "plt.ylabel('Hola') # add some lables\n",
        "plt.xlabel('Hello') # add some lables\n",
        "plt.title('Hola vs Hello') # add a title\n",
        "plt.rc('xtick', labelsize=20) #chnage the fontsize  \n",
        "plt.rc('ytick', labelsize=20) #chnage the fontsize  \n",
        "plt.legend() #this adds a legend\n"
      ],
      "execution_count": null,
      "outputs": [
        {
          "output_type": "execute_result",
          "data": {
            "text/plain": [
              "<matplotlib.legend.Legend at 0x7f38b01ed610>"
            ]
          },
          "metadata": {
            "tags": []
          },
          "execution_count": 9
        },
        {
          "output_type": "display_data",
          "data": {
            "image/png": "[encoded data removed]",
            "text/plain": [
              "<Figure size 720x360 with 1 Axes>"
            ]
          },
          "metadata": {
            "tags": [],
            "needs_background": "light"
          }
        }
      ]
    },
    {
      "cell_type": "markdown",
      "metadata": {
        "id": "gHq7oIdhFd_t"
      },
      "source": [
        "So I think this really shows how easy it is to create simple plots using Python. It is also possible to put these plots into a loop which can automate multiple operations (example coming soon). We also have different types of plots; a really usefull plot for our work is a histogram, this will help identify different modes within a dataset:\n",
        "\n",
        "https://matplotlib.org/stable/api/_as_gen/matplotlib.pyplot.hist.html\n"
      ]
    },
    {
      "cell_type": "code",
      "metadata": {
        "colab": {
          "base_uri": "https://localhost:8080/",
          "height": 321
        },
        "id": "f2qH9YJaF4Ye",
        "outputId": "81963d50-9084-41c1-cf24-689f3d713571"
      },
      "source": [
        "import matplotlib.pyplot as plt \n",
        "import numpy as np\n",
        "a = np.random.normal(0,0.1,1000) # just created some random numbers (normal distribution)\n",
        "# now we can plot the histogram \n",
        "plt.hist(a,bins=100,range=[-0.3,0.3]) #here we can set the number of bins and the ranges \n",
        "plt.ylabel('frequency')\n",
        "plt.xlabel('range')\n",
        "plt.title('freq vs. range')"
      ],
      "execution_count": null,
      "outputs": [
        {
          "output_type": "execute_result",
          "data": {
            "text/plain": [
              "Text(0.5, 1.0, 'freq vs. range')"
            ]
          },
          "metadata": {
            "tags": []
          },
          "execution_count": 10
        },
        {
          "output_type": "display_data",
          "data": {
            "image/png": "[encoded data removed]",
            "text/plain": [
              "<Figure size 432x288 with 1 Axes>"
            ]
          },
          "metadata": {
            "tags": [],
            "needs_background": "light"
          }
        }
      ]
    },
    {
      "cell_type": "markdown",
      "metadata": {
        "id": "5W3svk21J69t"
      },
      "source": [
        "Here we can now combine the loops and the plots to create subplots:\n",
        "\n",
        "https://matplotlib.org/stable/gallery/subplots_axes_and_figures/subplots_demo.html\n"
      ]
    },
    {
      "cell_type": "code",
      "metadata": {
        "colab": {
          "base_uri": "https://localhost:8080/",
          "height": 396
        },
        "id": "SzBaJ4yUJ_lX",
        "outputId": "860c755d-0ceb-4462-c56f-77136e514d91"
      },
      "source": [
        "import matplotlib.pyplot as plt \n",
        "fig, (ax1, ax2) = plt.subplots(1, 2, figsize=(10, 5)) # here we define we can have a 2 colums and 1 rows plots\n",
        "\n",
        "a1 = [1,2,3,4,5,6] # again we define some values \n",
        "b1 = [6,5,4,3,2,1] # again we define some values \n",
        "a2 = [2,3,4,5,6,7] # again we define some values \n",
        "b2 = [12,11,10,9,8,7] # again we define some values \n",
        "\n",
        "fig.suptitle('Horizontally stacked subplots')\n",
        "ax1.plot(a1, b1)\n",
        "ax2.plot(a2, b2)\n",
        "\n",
        "ax1.set(xlabel='z-label', ylabel='y-label')\n",
        "ax2.set(xlabel='x-label', ylabel='y-label')"
      ],
      "execution_count": null,
      "outputs": [
        {
          "output_type": "execute_result",
          "data": {
            "text/plain": [
              "[Text(0, 0.5, 'y-label'), Text(0.5, 0, 'x-label')]"
            ]
          },
          "metadata": {
            "tags": []
          },
          "execution_count": 11
        },
        {
          "output_type": "display_data",
          "data": {
            "image/png": "[encoded data removed]",
            "text/plain": [
              "<Figure size 720x360 with 2 Axes>"
            ]
          },
          "metadata": {
            "tags": [],
            "needs_background": "light"
          }
        }
      ]
    },
    {
      "cell_type": "code",
      "metadata": {
        "colab": {
          "base_uri": "https://localhost:8080/",
          "height": 396
        },
        "id": "okkyAdJEeY5-",
        "outputId": "80b88674-b6d7-4827-ff5d-a4ab8a8cda17"
      },
      "source": [
        "#computer prac 2 \n",
        "import matplotlib.pyplot as plt \n",
        "fig, (ax1, ax2, ax3) = plt.subplots(1, 3, figsize=(15, 5)) # here we define we can have a 2 colums and 1 rows plots\n",
        "\n",
        "a1 = [1,2,3,4,5,6] # again we define some values \n",
        "b1 = [6,5,4,3,2,1] # again we define some values \n",
        "a2 = [2,3,4,5,6,7] # again we define some values \n",
        "b2 = [12,11,10,9,8,7] # again we define some values \n",
        "a3 = [2,3,4,5,6,7] # again we define some values \n",
        "b3 = [12,11,10,9,8,7] # again we define some values \n",
        "\n",
        "\n",
        "fig.suptitle('Horizontally stacked subplots')\n",
        "ax1.plot(a1, b1)\n",
        "ax2.plot(a2, b2)\n",
        "ax3.plot(a3, b3,'r')\n",
        "\n",
        "ax1.set(xlabel='z-label', ylabel='y-label')\n",
        "ax2.set(xlabel='x-label', ylabel='y-label')\n",
        "ax2.set(xlabel='∫-label', ylabel='y-label')"
      ],
      "execution_count": null,
      "outputs": [
        {
          "output_type": "execute_result",
          "data": {
            "text/plain": [
              "[Text(0, 0.5, 'y-label'), Text(0.5, 0, '∫-label')]"
            ]
          },
          "metadata": {
            "tags": []
          },
          "execution_count": 14
        },
        {
          "output_type": "display_data",
          "data": {
            "image/png": "[encoded data removed]",
            "text/plain": [
              "<Figure size 1080x360 with 3 Axes>"
            ]
          },
          "metadata": {
            "tags": [],
            "needs_background": "light"
          }
        }
      ]
    },
    {
      "cell_type": "markdown",
      "metadata": {
        "id": "ChupILnEO83C"
      },
      "source": [
        "Let's just demonstarte how we might use this in a loop"
      ]
    },
    {
      "cell_type": "code",
      "metadata": {
        "colab": {
          "base_uri": "https://localhost:8080/",
          "height": 827
        },
        "id": "KbyYoUmmO8OO",
        "outputId": "1adf7b5f-5eed-4a97-eb44-753125b5002f"
      },
      "source": [
        "import matplotlib.pyplot as plt \n",
        "import numpy as np\n",
        "fig, axs = plt.subplots(2, 3, figsize=(20, 15))\n",
        "for i in range(0,2): # here we can use nested loops to make the subplots\n",
        "  for j in range(0,3): \n",
        "    axs[i,j].scatter(np.random.rand(100), np.random.rand(100))\n",
        "    axs[i,j].set(title=f'{i},{j}')\n",
        "    axs[i,j].set(xlabel='x-label', ylabel='y-label')\n"
      ],
      "execution_count": null,
      "outputs": [
        {
          "output_type": "display_data",
          "data": {
            "image/png": "[encoded data removed]",
            "text/plain": [
              "<Figure size 1440x1080 with 6 Axes>"
            ]
          },
          "metadata": {
            "tags": [],
            "needs_background": "light"
          }
        }
      ]
    },
    {
      "cell_type": "markdown",
      "metadata": {
        "id": "l2VFS0sIyw68"
      },
      "source": [
        "Additional Histogram "
      ]
    },
    {
      "cell_type": "code",
      "metadata": {
        "id": "dGkJootbyy3f",
        "colab": {
          "base_uri": "https://localhost:8080/",
          "height": 314
        },
        "outputId": "9931bc9c-3ab6-4d76-e214-d92eef851470"
      },
      "source": [
        "# the histogram of the data\n",
        "import matplotlib.pyplot as plt \n",
        "import numpy as np\n",
        "\n",
        "mu = 100  # mean of distribution\n",
        "sigma = 15  # standard deviation of distribution\n",
        "x = mu + sigma * np.random.randn(437)\n",
        "\n",
        "num_bins = 50\n",
        "fig, ax = plt.subplots()\n",
        "n, bins, patches = ax.hist(x, num_bins, density=True)\n",
        "y = ((1 / (np.sqrt(2 * np.pi) * sigma)) *\n",
        "     np.exp(-0.5 * (1 / sigma * (bins - mu))**2))\n",
        "ax.plot(bins, y, '--')\n",
        "ax.set_xlabel('Smarts')\n",
        "ax.set_ylabel('Probability density')\n",
        "ax.set_title(r'Histogram of IQ: $\\mu=100$, $\\sigma=15$')\n"
      ],
      "execution_count": null,
      "outputs": [
        {
          "output_type": "execute_result",
          "data": {
            "text/plain": [
              "Text(0.5, 1.0, 'Histogram of IQ: $\\\\mu=100$, $\\\\sigma=15$')"
            ]
          },
          "metadata": {
            "tags": []
          },
          "execution_count": 7
        },
        {
          "output_type": "display_data",
          "data": {
            "image/png": "[encoded data removed]",
            "text/plain": [
              "<Figure size 432x288 with 1 Axes>"
            ]
          },
          "metadata": {
            "tags": [],
            "needs_background": "light"
          }
        }
      ]
    }
  ]
}