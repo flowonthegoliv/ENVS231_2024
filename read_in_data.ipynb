{
  "nbformat": 4,
  "nbformat_minor": 0,
  "metadata": {
    "colab": {
      "name": "read_in_data",
      "provenance": [],
      "authorship_tag": "ABX9TyMvTlU/2gozbp9sHY6hmrXh",
      "include_colab_link": true
    },
    "kernelspec": {
      "name": "python3",
      "display_name": "Python 3"
    },
    "language_info": {
      "name": "python"
    }
  },
  "cells": [
    {
      "cell_type": "markdown",
      "metadata": {
        "id": "view-in-github",
        "colab_type": "text"
      },
      "source": [
        "<a href=\"https://colab.research.google.com/github/flowonthegoliv/ENVS231_2022/blob/main/read_in_data.ipynb\" target=\"_parent\"><img src=\"https://colab.research.google.com/assets/colab-badge.svg\" alt=\"Open In Colab\"/></a>"
      ]
    },
    {
      "cell_type": "code",
      "execution_count": 2,
      "metadata": {
        "id": "5pF3_tfD7AwY"
      },
      "outputs": [],
      "source": [
        "#Add this to the beginning of your script to create your dataset.  \n",
        "student_id = 201515394 #here you need to change this number for your student ID \n",
        "import requests\n",
        "r = requests.get('https://raw.githubusercontent.com/flowonthegoliv/ENVS231_2022/main/make_data.py')\n",
        "with open('make_data.py', 'w') as f:\n",
        "    f.write(r.text)\n",
        "import make_data\n",
        "datetime, dat1, dat2, dat3 = make_data.make_data(student_id)\n"
      ]
    }
  ]
}